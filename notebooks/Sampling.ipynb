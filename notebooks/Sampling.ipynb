{
 "cells": [
  {
   "cell_type": "markdown",
   "id": "79dde41a",
   "metadata": {},
   "source": [
    "## Load Stuff"
   ]
  },
  {
   "cell_type": "code",
   "execution_count": 1,
   "id": "4eaf9f86",
   "metadata": {},
   "outputs": [],
   "source": [
    "import torch\n",
    "from mario_gpt import MarioDataset, MarioLM, SampleOutput\n",
    "from mario_gpt.utils import view_level, convert_level_to_png, join_list_of_list, characterize"
   ]
  },
  {
   "cell_type": "markdown",
   "id": "d81d227f",
   "metadata": {},
   "source": [
    "### Load Model"
   ]
  },
  {
   "cell_type": "code",
   "execution_count": 2,
   "id": "1071022d",
   "metadata": {},
   "outputs": [
    {
     "name": "stdout",
     "output_type": "stream",
     "text": [
      "Using /Users/james/playground/mario-gpt/notebooks/Mario-GPT2-700-context-length/iteration_13459/ lm\n"
     ]
    },
    {
     "name": "stderr",
     "output_type": "stream",
     "text": [
      "/Users/james/Envs/research3.11/lib/python3.11/site-packages/transformers/models/auto/modeling_auto.py:1509: FutureWarning: The class `AutoModelWithLMHead` is deprecated and will be removed in a future version. Please use `AutoModelForCausalLM` for causal language models, `AutoModelForMaskedLM` for masked language models and `AutoModelForSeq2SeqLM` for encoder-decoder models.\n",
      "  warnings.warn(\n"
     ]
    },
    {
     "name": "stdout",
     "output_type": "stream",
     "text": [
      "Using /Users/james/playground/mario-gpt/notebooks/Mario-GPT2-700-context-length-tokenizer/ tokenizer\n"
     ]
    }
   ],
   "source": [
    "path = '/Users/james/playground/mario-gpt/notebooks/Mario-GPT2-700-context-length/iteration_13459/'\n",
    "tokenizer_path = '/Users/james/playground/mario-gpt/notebooks/Mario-GPT2-700-context-length-tokenizer/'\n",
    "mario_lm = MarioLM(lm_path=path, tokenizer_path=tokenizer_path)"
   ]
  },
  {
   "cell_type": "code",
   "execution_count": 121,
   "id": "102a42fa-403d-4be9-8888-52ab408fe293",
   "metadata": {},
   "outputs": [
    {
     "name": "stderr",
     "output_type": "stream",
     "text": [
      "Framework not specified. Using pt to export to ONNX.\n"
     ]
    },
    {
     "name": "stdout",
     "output_type": "stream",
     "text": [
      "OG Model Configuration:\n",
      "GPT2Config {\n",
      "  \"_name_or_path\": \"/Users/james/playground/mario-gpt/notebooks/Mario-GPT2-700-context-length/iteration_13459/\",\n",
      "  \"_num_labels\": 1,\n",
      "  \"activation_function\": \"gelu_new\",\n",
      "  \"add_cross_attention\": true,\n",
      "  \"architectures\": [\n",
      "    \"GPT2LMHeadModel\"\n",
      "  ],\n",
      "  \"attn_pdrop\": 0.1,\n",
      "  \"bos_token_id\": 50256,\n",
      "  \"embd_pdrop\": 0.1,\n",
      "  \"eos_token_id\": 50256,\n",
      "  \"id2label\": {\n",
      "    \"0\": \"LABEL_0\"\n",
      "  },\n",
      "  \"initializer_range\": 0.02,\n",
      "  \"label2id\": {\n",
      "    \"LABEL_0\": 0\n",
      "  },\n",
      "  \"layer_norm_epsilon\": 1e-05,\n",
      "  \"model_type\": \"gpt2\",\n",
      "  \"n_ctx\": 1024,\n",
      "  \"n_embd\": 768,\n",
      "  \"n_head\": 12,\n",
      "  \"n_inner\": null,\n",
      "  \"n_layer\": 6,\n",
      "  \"n_positions\": 1024,\n",
      "  \"pad_token_id\": 0,\n",
      "  \"reorder_and_upcast_attn\": false,\n",
      "  \"resid_pdrop\": 0.1,\n",
      "  \"scale_attn_by_inverse_layer_idx\": false,\n",
      "  \"scale_attn_weights\": true,\n",
      "  \"summary_activation\": null,\n",
      "  \"summary_first_dropout\": 0.1,\n",
      "  \"summary_proj_to_labels\": true,\n",
      "  \"summary_type\": \"cls_index\",\n",
      "  \"summary_use_proj\": true,\n",
      "  \"task_specific_params\": {\n",
      "    \"text-generation\": {\n",
      "      \"do_sample\": true,\n",
      "      \"max_length\": 50\n",
      "    }\n",
      "  },\n",
      "  \"torch_dtype\": \"float32\",\n",
      "  \"transformers_version\": \"4.35.0\",\n",
      "  \"use_cache\": true,\n",
      "  \"vocab_size\": 50257\n",
      "}\n",
      "\n",
      "/Users/james/playground/mario-gpt/notebooks/custom_onnx_output\n"
     ]
    },
    {
     "name": "stderr",
     "output_type": "stream",
     "text": [
      "The task `text-generation` was manually specified, and past key values will not be reused in the decoding. if needed, please pass `--task text-generation-with-past` to export using the past key values.\n",
      "Using the export variant default. Available variants are:\n",
      "    - default: The default ONNX variant.\n",
      "Using framework PyTorch: 2.1.0\n",
      "Overriding 2 configuration item(s)\n",
      "\t- use_cache -> False\n",
      "\t- pad_token_id -> 0\n",
      "/Users/james/Envs/research3.11/lib/python3.11/site-packages/transformers/models/gpt2/modeling_gpt2.py:801: TracerWarning: Converting a tensor to a Python boolean might cause the trace to be incorrect. We can't record the data flow of Python values, so this value will be treated as a constant in the future. This means that the trace might not generalize to other inputs!\n",
      "  if batch_size <= 0:\n",
      "Post-processing the exported models...\n",
      "Deduplicating shared (tied) weights...\n",
      "Found different candidate ONNX initializers (likely duplicate) for the tied weights:\n",
      "\tlm_head.weight: {'onnx::MatMul_3063'}\n",
      "\ttransformer.wte.weight: {'transformer.wte.weight'}\n",
      "Removing duplicate initializer onnx::MatMul_3063...\n",
      "Validating ONNX model /Users/james/playground/mario-gpt/notebooks/custom_onnx_output/model.onnx...\n",
      "\t-[✓] ONNX model output names match reference model (logits)\n",
      "\t- Validating ONNX Model output \"logits\":\n",
      "\t\t-[✓] (2, 16, 50257) matches (2, 16, 50257)\n",
      "\t\t-[x] values not close enough, max diff: 6.103515625e-05 (atol: 1e-05)\n",
      "The ONNX export succeeded with the warning: The maximum absolute difference between the output of the reference model and the ONNX exported model is not within the set tolerance 1e-05:\n",
      "- logits: max diff = 6.103515625e-05.\n",
      " The exported model was saved at: /Users/james/playground/mario-gpt/notebooks/custom_onnx_output\n"
     ]
    }
   ],
   "source": [
    "from transformers import GPT2LMHeadModel\n",
    "from optimum.exporters.onnx import export, main_export\n",
    "from optimum.exporters.onnx.model_configs import GPT2OnnxConfig\n",
    "from optimum.utils import DummyTextInputGenerator, DummyPastKeyValuesGenerator, DummyInputGenerator, NormalizedTextConfig\n",
    "from pathlib import Path\n",
    "from collections import OrderedDict\n",
    "\n",
    "class DummyHiddenStateGenerator(DummyInputGenerator):\n",
    "    \"\"\"\n",
    "    Generates dummy encoder hidden state.\n",
    "    \"\"\"\n",
    "\n",
    "    SUPPORTED_INPUT_NAMES = (\n",
    "        \"encoder_hidden_states\",\n",
    "    )\n",
    "\n",
    "    def __init__(\n",
    "        self,\n",
    "        task: str,\n",
    "        normalized_config: NormalizedTextConfig,\n",
    "        **kwargs,\n",
    "    ):\n",
    "        self.batch_size = 1\n",
    "        self.encoding_size = 768\n",
    "\n",
    "    def generate(self, input_name: str, framework: str = \"pt\", int_dtype: str = \"int64\", float_dtype: str = \"fp32\"):\n",
    "        min_value = 0\n",
    "        max_value = 2\n",
    "        shape = [self.batch_size, 1, self.encoding_size]\n",
    "        return self.random_int_tensor(shape, max_value, min_value=min_value, framework=framework, dtype=float_dtype)\n",
    "\n",
    "class CustomGPT2OnnxConfig(GPT2OnnxConfig):\n",
    "    def __init__(self, model, task=\"text-generation\"):\n",
    "        super().__init__(config=model.config, task=task)\n",
    "        self.DUMMY_INPUT_GENERATOR_CLASSES = (DummyTextInputGenerator, DummyPastKeyValuesGenerator, DummyHiddenStateGenerator)\n",
    "\n",
    "    @property\n",
    "    def inputs(self) -> Dict[str, Dict[int, str]]:\n",
    "        common_inputs = super().inputs\n",
    "        common_inputs[\"encoder_hidden_states\"] = {0: \"batch_size\", 1: \"sequence_length\"}\n",
    "\n",
    "        return common_inputs\n",
    "\n",
    "# Create the custom ONNX configuration\n",
    "custom_config = CustomGPT2OnnxConfig(mario_lm.lm)\n",
    "model = mario_lm.lm\n",
    "\n",
    "print(\"OG Model Configuration:\")\n",
    "print(model.config)\n",
    "\n",
    "onnx_model_path = Path(\"/Users/james/playground/mario-gpt/notebooks/custom_onnx_output/\")  # Specify your ONNX model path\n",
    "print(onnx_model_path)\n",
    "#export(\n",
    "#    model=model,\n",
    "#    config=custom_config,\n",
    "#    output=onnx_model_path,\n",
    "#    opset=13  # Specify the opset version if different\n",
    "#)\n",
    "main_export(\n",
    "    model_name_or_path=\"/Users/james/playground/mario-gpt/notebooks/Mario-GPT2-700-context-length/iteration_13459\",\n",
    "    output=onnx_model_path,\n",
    "    task=\"text-generation\",\n",
    "    custom_onnx_configs = {\"model\": custom_config},\n",
    "    opset=13  # Specify the opset version if different\n",
    ")\n"
   ]
  },
  {
   "cell_type": "code",
   "execution_count": 125,
   "id": "c23a8355-d11c-4416-aa65-ae82cb54ff56",
   "metadata": {},
   "outputs": [
    {
     "data": {
      "text/plain": [
       "torch.Size([10, 768])"
      ]
     },
     "execution_count": 125,
     "metadata": {},
     "output_type": "execute_result"
    }
   ],
   "source": [
    "prompt = \"high elevation, many pipes, some enemies\"\n",
    "mario_lm.prompter.feature_extraction(prompt, return_tensors=\"pt\")[0].shape"
   ]
  },
  {
   "cell_type": "code",
   "execution_count": 120,
   "id": "0d58db5c-78a9-423a-9edc-189d50df20b9",
   "metadata": {},
   "outputs": [
    {
     "name": "stdout",
     "output_type": "stream",
     "text": [
      "torch.Size([1, 1, 768]) torch.float32\n",
      "Failed to generate string or image representation for full level! Got error tuple index out of range\n",
      "Failed to generate string or image representation for sampled predictions! Got error tuple index out of range\n"
     ]
    }
   ],
   "source": [
    "context_len = 700-28\n",
    "with torch.no_grad():   \n",
    "    seed = mario_lm.generate_seed(1, batch_size=1)\n",
    "    # No prompt\n",
    "    encoder_hidden_states = torch.stack(\n",
    "        [\n",
    "            mario_lm.prompter(sample_prompt=True)[1]\n",
    "            for _ in range(seed.shape[0])\n",
    "        ]\n",
    "    )\n",
    "    print(encoder_hidden_states.shape, encoder_hidden_states.dtype)\n",
    "    out_tensor = seed\n",
    "    num_steps = 4\n",
    "    for i in range(num_steps):\n",
    "        #print(seed)\n",
    "        inp = out_tensor * 1\n",
    "        if len(out_tensor.shape) > 0 and out_tensor.shape[-1] > context_len:\n",
    "            diff = inp.shape[-1] % 14  # height of mario level\n",
    "            ctx = context_len + diff\n",
    "            inp = inp[:, -ctx:] * 1\n",
    "        attention_mask = torch.ones_like(inp).to(inp.device)\n",
    "        out = mario_lm.lm(\n",
    "            input_ids=inp,\n",
    "            attention_mask=attention_mask,\n",
    "            encoder_hidden_states=encoder_hidden_states,\n",
    "            token_type_ids=None,\n",
    "        )\n",
    "        logits = out.logits.detach()\n",
    "        if len(logits.shape) == 2:\n",
    "            logits = logits.view(1, 1, -1)\n",
    "        next = logits[:, -1, :].argmax(-1)\n",
    "        out_tensor = torch.cat(\n",
    "            [out_tensor, next.unsqueeze(-1)], dim=-1\n",
    "        )\n",
    "    #print(out_tensor)\n",
    "    sample_out = SampleOutput.from_level_predictions(\n",
    "        out_tensor,\n",
    "        out_tensor[:, -num_steps:],\n",
    "        mario_lm.tokenizer,\n",
    "        mario_lm.prompter,\n",
    "    )\n",
    "\n",
    "    #print(sample_out.level)\n",
    "    "
   ]
  },
  {
   "cell_type": "markdown",
   "id": "1add400f",
   "metadata": {},
   "source": [
    "### Load Dataset"
   ]
  },
  {
   "cell_type": "code",
   "execution_count": 73,
   "id": "385dce49",
   "metadata": {},
   "outputs": [
    {
     "name": "stderr",
     "output_type": "stream",
     "text": [
      "Token indices sequence length is longer than the specified maximum sequence length for this model (102116 > 1024). Running this sequence through the model will result in indexing errors\n"
     ]
    },
    {
     "name": "stdout",
     "output_type": "stream",
     "text": [
      "No level string specified, using default string FULL_LEVEL_STR_WITH_PATHS...\n",
      "\n",
      "\n",
      "\n"
     ]
    }
   ],
   "source": [
    "dataset = MarioDataset(mario_lm.tokenizer)\n",
    "mario_lm.tokenizer = dataset.tokenizer"
   ]
  },
  {
   "cell_type": "code",
   "execution_count": 74,
   "id": "a5622af5-591c-42ca-89da-98958c092ba8",
   "metadata": {},
   "outputs": [
    {
     "data": {
      "text/plain": [
       "['--------------------------------------------------',\n",
       " '--------------------------------------------------',\n",
       " '--------------------------------------------------',\n",
       " '--------------------------------------------------',\n",
       " '-------------------------------------------------o',\n",
       " '--------XSSSSS---------------------------------SSS',\n",
       " '--------X-----------------------------------------',\n",
       " '--------X-----------------------------------------',\n",
       " '-------EX--E-X---------------xxxx-?-----------xxxx',\n",
       " '--------XSS?SX---QQ?QQ------xx<>-x-----------xx--?',\n",
       " '---------------------------xx-[]--x---------xx----',\n",
       " '--------------------------xx--[]---x-------xx-----',\n",
       " 'xxxxxxxxxxxxxxxxxxxxxxxxxxx---[]----xxxxxxxx------',\n",
       " 'XXXXXXXXXXXXXXXXXXXXXXXXXXXXXXXXXXXXXXXXXXXX---XXX']"
      ]
     },
     "execution_count": 74,
     "metadata": {},
     "output_type": "execute_result"
    }
   ],
   "source": [
    "view_level(dataset.input_ids[:700], mario_lm.tokenizer)"
   ]
  },
  {
   "cell_type": "markdown",
   "id": "8060b333",
   "metadata": {
    "jp-MarkdownHeadingCollapsed": true
   },
   "source": [
    "#### View string representation of level"
   ]
  },
  {
   "cell_type": "code",
   "execution_count": 4,
   "id": "5bf345f3",
   "metadata": {},
   "outputs": [
    {
     "data": {
      "text/plain": [
       "['--------------------------------------------------Y',\n",
       " '--------------------------------------------------Y',\n",
       " '--------------------------------------------------Y',\n",
       " '--------------------------------------------------Y',\n",
       " '-------------------------------------------------oY',\n",
       " '--------XSSSSS---------------------------------SSSY',\n",
       " '--------X-----------------------------------------Y',\n",
       " '--------X-----------------------------------------Y',\n",
       " '-------EX--E-X---------------xxxx-?-----------xxxxY',\n",
       " '--------XSS?SX---QQ?QQ------xx<>-x-----------xx--?Y',\n",
       " '---------------------------xx-[]--x---------xx----Y',\n",
       " '--------------------------xx--[]---x-------xx-----Y',\n",
       " 'xxxxxxxxxxxxxxxxxxxxxxxxxxx---[]----xxxxxxxx------Y',\n",
       " 'XXXXXXXXXXXXXXXXXXXXXXXXXXXXXXXXXXXXXXXXXXXX---XXXX']"
      ]
     },
     "execution_count": 4,
     "metadata": {},
     "output_type": "execute_result"
    }
   ],
   "source": [
    "view_level(dataset.input_ids[:700], mario_lm.tokenizer)"
   ]
  },
  {
   "cell_type": "markdown",
   "id": "b7a1c025",
   "metadata": {
    "jp-MarkdownHeadingCollapsed": true
   },
   "source": [
    "#### Image"
   ]
  },
  {
   "cell_type": "markdown",
   "id": "d7dde246",
   "metadata": {
    "tags": []
   },
   "source": [
    "##### Previewing the first 50 columns of the dataset"
   ]
  },
  {
   "cell_type": "code",
   "execution_count": 5,
   "id": "9523d94f",
   "metadata": {},
   "outputs": [
    {
     "name": "stderr",
     "output_type": "stream",
     "text": [
      "/home/kokkgoblin/miniconda3/envs/py39/lib/python3.9/site-packages/Pillow-9.1.1-py3.9-linux-x86_64.egg/PIL/Image.py:992: UserWarning: Palette images with Transparency expressed in bytes should be converted to RGBA images\n",
      "  warnings.warn(\n"
     ]
    },
    {
     "data": {
      "image/png": "[encoded data removed]",
      "text/plain": [
       "<PIL.Image.Image image mode=RGB size=800x224>"
      ]
     },
     "execution_count": 5,
     "metadata": {},
     "output_type": "execute_result"
    }
   ],
   "source": [
    "img = convert_level_to_png(dataset.input_ids[:700],  mario_lm.tokenizer)[0]\n",
    "img"
   ]
  },
  {
   "cell_type": "markdown",
   "id": "8a8e58c0",
   "metadata": {
    "jp-MarkdownHeadingCollapsed": true
   },
   "source": [
    "#### Set device"
   ]
  },
  {
   "cell_type": "code",
   "execution_count": 6,
   "id": "17cabd46",
   "metadata": {},
   "outputs": [],
   "source": [
    "device = torch.device('cuda')\n",
    "mario_lm = mario_lm.to(device)"
   ]
  },
  {
   "cell_type": "markdown",
   "id": "a8fad057",
   "metadata": {},
   "source": [
    "## Generating Levels"
   ]
  },
  {
   "cell_type": "code",
   "execution_count": 3,
   "id": "927bfdad",
   "metadata": {},
   "outputs": [],
   "source": [
    "prompts = [\"many pipes, many enemies, some blocks, high elevation\"]"
   ]
  },
  {
   "cell_type": "code",
   "execution_count": 33,
   "id": "89bd5137",
   "metadata": {
    "scrolled": true,
    "tags": []
   },
   "outputs": [
    {
     "name": "stderr",
     "output_type": "stream",
     "text": [
      "shape: torch.Size([1, 672]), torch.Size([1, 701]) first: 56, last: 13: 100%|██████████████████████████████████████████████████████████████████████████████████████████████████████████████████████████████████████████████████████████████████████████████████████████████████| 700/700 [01:15<00:00,  9.25it/s]\n"
     ]
    }
   ],
   "source": [
    "generated_level = mario_lm.sample(\n",
    "    prompts=prompts,\n",
    "    num_steps=420,\n",
    "    temperature=2.0,\n",
    "    use_tqdm=True,\n",
    "    use_argmax=False\n",
    ")"
   ]
  },
  {
   "cell_type": "code",
   "execution_count": 34,
   "id": "a852f565-c828-4550-99d4-90c1133a6570",
   "metadata": {},
   "outputs": [
    {
     "data": {
      "text/plain": [
       "['--------------------------------------------------',\n",
       " '--------------------------------------------------',\n",
       " '------------------------------xxx-----------------',\n",
       " 'SS---------------------------xx--x----------------',\n",
       " '--------X-------------------xQQ---x----------E----',\n",
       " '---------------------------xx------x--------------',\n",
       " '--------------------------xx--------x-xxxx--------',\n",
       " '-------------------------xx----------xx---xo------',\n",
       " 'XXXXX------XS----------xxx----------XXX----x------',\n",
       " 'xxxxx----------X------xx-X---------XXXX-----x-----',\n",
       " 'xE-X-x--------XX-----xx--X----------XXX------x---x',\n",
       " '<>-X--x----SSSXX----xx---X---------------SSSS-x-xx',\n",
       " '[]-X--Sxxxxxxxxxxxxxx--------------------------xx-',\n",
       " 'XXXXXXXXXXXXXXXXXXXXX-------------------------XXXX']"
      ]
     },
     "execution_count": 34,
     "metadata": {},
     "output_type": "execute_result"
    }
   ],
   "source": [
    "generated_level.level"
   ]
  },
  {
   "cell_type": "code",
   "execution_count": 35,
   "id": "60c98992-9388-4550-a4a6-e2e4144c6a49",
   "metadata": {},
   "outputs": [
    {
     "data": {
      "image/jpeg": "[encoded data removed]",
      "image/png": "[encoded data removed]",
      "text/plain": [
       "<PIL.Image.Image image mode=RGB size=800x224>"
      ]
     },
     "execution_count": 35,
     "metadata": {},
     "output_type": "execute_result"
    }
   ],
   "source": [
    "generated_level.img"
   ]
  },
  {
   "cell_type": "markdown",
   "id": "610b3f66",
   "metadata": {
    "tags": []
   },
   "source": [
    "#### Check if the model generated the correct level\n",
    "##### Because of the stochastic nature of the model and the small training dataset, the model may generate levels that do not completely match the given prompt"
   ]
  },
  {
   "cell_type": "code",
   "execution_count": 19,
   "id": "d18d6097",
   "metadata": {},
   "outputs": [
    {
     "data": {
      "text/plain": [
       "'some pipes, many enemies, some blocks, high elevation'"
      ]
     },
     "execution_count": 19,
     "metadata": {},
     "output_type": "execute_result"
    }
   ],
   "source": [
    "generated_level.prompt"
   ]
  },
  {
   "cell_type": "markdown",
   "id": "12dc4d7f",
   "metadata": {},
   "source": [
    "## Play Levels Interactively"
   ]
  },
  {
   "cell_type": "code",
   "execution_count": 20,
   "id": "4911db5e",
   "metadata": {},
   "outputs": [
    {
     "name": "stdout",
     "output_type": "stream",
     "text": [
      "Playing level interactively -- /tmp/tmpnveevydo.txt!\n",
      "huggingface/tokenizers: The current process just got forked, after parallelism has already been used. Disabling parallelism to avoid deadlocks...\n",
      "To disable this warning, you can either:\n",
      "\t- Avoid using `tokenizers` before the fork if possible\n",
      "\t- Explicitly set the environment variable TOKENIZERS_PARALLELISM=(true | false)\n"
     ]
    }
   ],
   "source": [
    "generated_level.play()"
   ]
  },
  {
   "cell_type": "markdown",
   "id": "08136c89",
   "metadata": {},
   "source": [
    "## Run Astar Agent"
   ]
  },
  {
   "cell_type": "code",
   "execution_count": 26,
   "id": "fa6edf15",
   "metadata": {},
   "outputs": [
    {
     "name": "stdout",
     "output_type": "stream",
     "text": [
      "Running Astar agent on level! -- /tmp/tmpw0ril9xa.txt\n",
      "huggingface/tokenizers: The current process just got forked, after parallelism has already been used. Disabling parallelism to avoid deadlocks...\n",
      "To disable this warning, you can either:\n",
      "\t- Avoid using `tokenizers` before the fork if possible\n",
      "\t- Explicitly set the environment variable TOKENIZERS_PARALLELISM=(true | false)\n"
     ]
    }
   ],
   "source": [
    "generated_level.run_astar()"
   ]
  },
  {
   "cell_type": "markdown",
   "id": "81c40589-aa81-4b19-b236-f365660fd39c",
   "metadata": {},
   "source": [
    "## Continue generation"
   ]
  },
  {
   "cell_type": "markdown",
   "id": "08acdbbd-9e09-4dee-badb-c1b944f9fd6d",
   "metadata": {},
   "source": [
    "### You can also continue generation, making giant levels"
   ]
  },
  {
   "cell_type": "code",
   "execution_count": 34,
   "id": "b3627015-5f0b-45e5-a1f6-6480c8bdc3ac",
   "metadata": {},
   "outputs": [],
   "source": [
    "# different prompt\n",
    "prompts = [\"no pipes, some enemies, some blocks, high elevation\"]"
   ]
  },
  {
   "cell_type": "code",
   "execution_count": 38,
   "id": "98d0c5ff-0d47-4124-b128-5a2616c3e3f0",
   "metadata": {},
   "outputs": [
    {
     "name": "stderr",
     "output_type": "stream",
     "text": [
      "shape: torch.Size([1, 685]), torch.Size([1, 2800]) first: 56, last: 13: 100%|█████| 1400/1400 [00:30<00:00, 45.35it/s]\n",
      "/home/kokkgoblin/miniconda3/envs/py39/lib/python3.9/site-packages/Pillow-9.1.1-py3.9-linux-x86_64.egg/PIL/Image.py:992: UserWarning: Palette images with Transparency expressed in bytes should be converted to RGBA images\n",
      "  warnings.warn(\n"
     ]
    }
   ],
   "source": [
    "generated_level_continued = mario_lm.sample(\n",
    "    seed=generated_level,\n",
    "    prompts=prompts,\n",
    "    num_steps=1400,\n",
    "    temperature=2.0,\n",
    "    use_tqdm=True\n",
    ")"
   ]
  },
  {
   "cell_type": "code",
   "execution_count": 39,
   "id": "33f24d9b-983a-45e2-b5d8-f560573fff8f",
   "metadata": {},
   "outputs": [
    {
     "data": {
      "image/png": "[encoded data removed]",
      "text/plain": [
       "<PIL.Image.Image image mode=RGB size=3200x224>"
      ]
     },
     "execution_count": 39,
     "metadata": {},
     "output_type": "execute_result"
    }
   ],
   "source": [
    "generated_level_continued.img"
   ]
  },
  {
   "cell_type": "code",
   "execution_count": 42,
   "id": "4c2e6b67-ecb3-4d47-be1e-222b492efb8d",
   "metadata": {},
   "outputs": [
    {
     "name": "stdout",
     "output_type": "stream",
     "text": [
      "Running Astar agent on level! -- /tmp/tmpdaalo9xl.txt\n",
      "huggingface/tokenizers: The current process just got forked, after parallelism has already been used. Disabling parallelism to avoid deadlocks...\n",
      "To disable this warning, you can either:\n",
      "\t- Avoid using `tokenizers` before the fork if possible\n",
      "\t- Explicitly set the environment variable TOKENIZERS_PARALLELISM=(true | false)\n"
     ]
    }
   ],
   "source": [
    "generated_level_continued.run_astar()"
   ]
  },
  {
   "cell_type": "markdown",
   "id": "3abff079-ed2a-4253-85d2-d248ae779e8c",
   "metadata": {
    "tags": []
   },
   "source": [
    "## Batch multiple prompts"
   ]
  },
  {
   "cell_type": "code",
   "execution_count": 72,
   "id": "bd12d26f-f153-40c6-947f-0d9f700168b0",
   "metadata": {},
   "outputs": [
    {
     "name": "stderr",
     "output_type": "stream",
     "text": [
      "shape: torch.Size([3, 672]), torch.Size([3, 1401]) first: 56, last: 13: 100%|█████| 1400/1400 [01:01<00:00, 22.84it/s]\n"
     ]
    }
   ],
   "source": [
    "prompts = [\"no pipes, many enemies, some blocks, high elevation\", \"many pipes, no enemies, many blocks, high elevation\", \"many pipes, many enemies, little blocks, low elevation\"]\n",
    "\n",
    "generated_levels = mario_lm.sample(\n",
    "    prompts=prompts,\n",
    "    num_steps=1400,\n",
    "    temperature=2.0,\n",
    "    use_tqdm=True\n",
    ")"
   ]
  },
  {
   "cell_type": "code",
   "execution_count": 73,
   "id": "27f0e1b8-1495-4c68-8163-479436c0d17d",
   "metadata": {},
   "outputs": [
    {
     "data": {
      "image/png": "[encoded data removed]",
      "text/plain": [
       "<PIL.Image.Image image mode=RGB size=1600x224>"
      ]
     },
     "execution_count": 73,
     "metadata": {},
     "output_type": "execute_result"
    }
   ],
   "source": [
    "generated_levels[0].img"
   ]
  },
  {
   "cell_type": "code",
   "execution_count": 74,
   "id": "25d08df4-029e-43a3-ac73-bfc4c595dee8",
   "metadata": {},
   "outputs": [
    {
     "data": {
      "image/png": "[encoded data removed]",
      "text/plain": [
       "<PIL.Image.Image image mode=RGB size=1600x224>"
      ]
     },
     "execution_count": 74,
     "metadata": {},
     "output_type": "execute_result"
    }
   ],
   "source": [
    "generated_levels[1].img"
   ]
  },
  {
   "cell_type": "code",
   "execution_count": 75,
   "id": "589b0df3-d504-4a33-899c-eea2780d126a",
   "metadata": {},
   "outputs": [
    {
     "data": {
      "image/png": "[encoded data removed]",
      "text/plain": [
       "<PIL.Image.Image image mode=RGB size=1600x224>"
      ]
     },
     "execution_count": 75,
     "metadata": {},
     "output_type": "execute_result"
    }
   ],
   "source": [
    "generated_levels[2].img"
   ]
  },
  {
   "cell_type": "markdown",
   "id": "62768f31-c6bd-4b23-a346-877785ad8e2f",
   "metadata": {},
   "source": [
    "### Generate Timelapses"
   ]
  },
  {
   "cell_type": "code",
   "execution_count": 76,
   "id": "efacb8ef-d006-4977-b366-2ddfab67a95b",
   "metadata": {},
   "outputs": [],
   "source": [
    "from mario_gpt.utils import generate_timelapse"
   ]
  },
  {
   "cell_type": "code",
   "execution_count": 79,
   "id": "a6224014-045b-495b-b214-fb433dd9df3c",
   "metadata": {},
   "outputs": [],
   "source": [
    "timelapse_0 = generate_timelapse(generated_levels[0].level_tensor, mario_lm)"
   ]
  },
  {
   "cell_type": "code",
   "execution_count": 80,
   "id": "e66c97cf-5115-48ef-84c5-fba6fd618bc1",
   "metadata": {},
   "outputs": [],
   "source": [
    "timelapse_1 = generate_timelapse(generated_levels[1].level_tensor, mario_lm)"
   ]
  },
  {
   "cell_type": "code",
   "execution_count": 81,
   "id": "dc1c293a-6cf9-42ca-bb9c-2b3e28e12064",
   "metadata": {},
   "outputs": [],
   "source": [
    "timelapse_2 = generate_timelapse(generated_levels[2].level_tensor, mario_lm)"
   ]
  },
  {
   "cell_type": "code",
   "execution_count": 82,
   "id": "1fc549b9-7309-4429-905c-7d5e59cc8297",
   "metadata": {},
   "outputs": [],
   "source": [
    "# save\n",
    "# import imageio\n",
    "# imageio.mimsave('timelapse_0.gif',timelapse_0,fps=60)"
   ]
  }
 ],
 "metadata": {
  "kernelspec": {
   "display_name": "Python 3 (ipykernel)",
   "language": "python",
   "name": "python3"
  },
  "language_info": {
   "codemirror_mode": {
    "name": "ipython",
    "version": 3
   },
   "file_extension": ".py",
   "mimetype": "text/x-python",
   "name": "python",
   "nbconvert_exporter": "python",
   "pygments_lexer": "ipython3",
   "version": "3.11.6"
  }
 },
 "nbformat": 4,
 "nbformat_minor": 5
}
